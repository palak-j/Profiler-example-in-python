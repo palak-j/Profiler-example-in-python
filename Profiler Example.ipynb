{
 "cells": [
  {
   "cell_type": "markdown",
   "metadata": {},
   "source": [
    "What is Profiler? <br>\n",
    "Profiler is used to identify which portions of the program are executed most frequently or where most of the time is spent. <br>\n",
    "It not only gives the total running time, but also times each function separately, and tells you how many times each function was called, making it easy to determine where you should make optimizations."
   ]
  },
  {
   "cell_type": "markdown",
   "metadata": {},
   "source": [
    "We can use cProfile as documented here: https://docs.python.org/3/library/profile.html   <br>\n",
    "And instead of repeating again and again for using cProfile in different functios, we can create a decorator as mentioned below. After creating decorator function 'profile', just use @profile as decorator before the function and it will start give all the stats for that function. (nested also)"
   ]
  },
  {
   "cell_type": "code",
   "execution_count": 1,
   "metadata": {},
   "outputs": [],
   "source": [
    "import cProfile, pstats, io\n",
    "\n",
    "\n",
    "\n",
    "def profile(fnc):\n",
    "    \n",
    "    \"\"\"A decorator that uses cProfile to profile a function\"\"\"\n",
    "    \n",
    "    def inner(*args, **kwargs):\n",
    "        \n",
    "        pr = cProfile.Profile()\n",
    "        pr.enable()\n",
    "        retval = fnc(*args, **kwargs)\n",
    "        pr.disable()\n",
    "        s = io.StringIO()\n",
    "        sortby = 'cumulative'\n",
    "        ps = pstats.Stats(pr, stream=s).sort_stats(sortby)\n",
    "        ps.print_stats()\n",
    "        print(s.getvalue())\n",
    "        return retval\n",
    "\n",
    "    return inner"
   ]
  },
  {
   "cell_type": "markdown",
   "metadata": {},
   "source": [
    "Let's take an example to understand it. <br><br>\n",
    "\n",
    "Reference: https://osf.io/upav8/ <br>\n",
    "\n",
    "Our task to find the duplicate movies in the given text file. I have created this file from IMDB dataset on kaggle. <br>\n",
    "\n",
    "We can get the desired result in many different ways but our task is to analyze the execution time for each line and find the optimized solution here."
   ]
  },
  {
   "cell_type": "code",
   "execution_count": null,
   "metadata": {},
   "outputs": [],
   "source": []
  },
  {
   "cell_type": "code",
   "execution_count": 2,
   "metadata": {},
   "outputs": [
    {
     "name": "stdout",
     "output_type": "stream",
     "text": [
      "         23067720 function calls in 4.106 seconds\n",
      "\n",
      "   Ordered by: cumulative time\n",
      "\n",
      "   ncalls  tottime  percall  cumtime  percall filename:lineno(function)\n",
      "        1    0.001    0.001    4.106    4.106 <ipython-input-2-aaa4458af140>:19(find_duplicate_movies)\n",
      "     4803    2.509    0.001    4.103    0.001 <ipython-input-2-aaa4458af140>:13(is_duplicate)\n",
      " 23058102    1.594    0.000    1.594    0.000 {method 'lower' of 'str' objects}\n",
      "        1    0.000    0.000    0.001    0.001 <ipython-input-2-aaa4458af140>:8(read_movies)\n",
      "        1    0.000    0.000    0.000    0.000 {method 'read' of '_io.TextIOWrapper' objects}\n",
      "        1    0.000    0.000    0.000    0.000 {method 'splitlines' of 'str' objects}\n",
      "     4803    0.000    0.000    0.000    0.000 {method 'pop' of 'list' objects}\n",
      "        1    0.000    0.000    0.000    0.000 {built-in method io.open}\n",
      "        1    0.000    0.000    0.000    0.000 C:\\Users\\jainp\\anaconda3\\lib\\codecs.py:319(decode)\n",
      "        1    0.000    0.000    0.000    0.000 {built-in method _codecs.utf_8_decode}\n",
      "        1    0.000    0.000    0.000    0.000 C:\\Users\\jainp\\anaconda3\\lib\\codecs.py:309(__init__)\n",
      "        2    0.000    0.000    0.000    0.000 {method 'append' of 'list' objects}\n",
      "        1    0.000    0.000    0.000    0.000 C:\\Users\\jainp\\anaconda3\\lib\\codecs.py:260(__init__)\n",
      "        1    0.000    0.000    0.000    0.000 {method 'disable' of '_lsprof.Profiler' objects}\n",
      "\n",
      "\n",
      "\n"
     ]
    },
    {
     "data": {
      "text/plain": [
       "['Batman', 'Out of the Blue']"
      ]
     },
     "execution_count": 2,
     "metadata": {},
     "output_type": "execute_result"
    }
   ],
   "source": [
    "'''In first method, I have added functions for reading text data 'read_movies', function to compare two movies 'is_duplicate' and \n",
    "the main function where we are calling read_movies once to read data, looping through all the movies in the data and call \n",
    "is_duplicate function everytime in loop.\n",
    "\n",
    "'''\n",
    "\n",
    "\n",
    "def read_movies(src):\n",
    "    \n",
    "    with open(src, encoding=\"utf-8\" ) as fd:\n",
    "        return fd.read().splitlines()\n",
    "    \n",
    "def is_duplicate(new_mov, movies):\n",
    "    for mov in movies:\n",
    "        if new_mov.lower() == mov.lower():\n",
    "            return True\n",
    "    return False\n",
    "    \n",
    "@profile\n",
    "def find_duplicate_movies(src='movies.txt'):\n",
    "    \n",
    "    movies = read_movies(src)\n",
    "    duplicates = []\n",
    "    while movies:\n",
    "        movie = movies.pop()\n",
    "        if is_duplicate(movie, movies):\n",
    "            duplicates.append(movie)\n",
    "    return duplicates\n",
    "    \n",
    "find_duplicate_movies()"
   ]
  },
  {
   "cell_type": "code",
   "execution_count": null,
   "metadata": {},
   "outputs": [],
   "source": []
  },
  {
   "cell_type": "markdown",
   "metadata": {},
   "source": [
    "Analysis: <br>\n",
    "Total execution time is 4.106 seconds. <br>\n",
    "Stats has been sorted by cummulative time. <br>\n",
    "Now check the cummulative time column 'cumtime', we can see that it is inreasing rapidly from fifth to fourth row(lower method). It is because we are calling this lower function again and again in loop.<br><br>\n",
    "\n",
    "Let's do it in another way.\n",
    "\n"
   ]
  },
  {
   "cell_type": "code",
   "execution_count": null,
   "metadata": {},
   "outputs": [],
   "source": []
  },
  {
   "cell_type": "code",
   "execution_count": 3,
   "metadata": {},
   "outputs": [
    {
     "name": "stdout",
     "output_type": "stream",
     "text": [
      "         14422 function calls in 0.293 seconds\n",
      "\n",
      "   Ordered by: cumulative time\n",
      "\n",
      "   ncalls  tottime  percall  cumtime  percall filename:lineno(function)\n",
      "        1    0.001    0.001    0.293    0.293 <ipython-input-3-17ba09b8ce3d>:21(find_duplicate_movies)\n",
      "     4803    0.289    0.000    0.289    0.000 <ipython-input-3-17ba09b8ce3d>:15(is_duplicate)\n",
      "        1    0.000    0.000    0.001    0.001 <ipython-input-3-17ba09b8ce3d>:10(read_movies)\n",
      "        1    0.000    0.000    0.001    0.001 <ipython-input-3-17ba09b8ce3d>:25(<listcomp>)\n",
      "        1    0.000    0.000    0.000    0.000 {built-in method io.open}\n",
      "     4803    0.000    0.000    0.000    0.000 {method 'lower' of 'str' objects}\n",
      "        1    0.000    0.000    0.000    0.000 {method 'read' of '_io.TextIOWrapper' objects}\n",
      "        1    0.000    0.000    0.000    0.000 {method 'splitlines' of 'str' objects}\n",
      "     4803    0.000    0.000    0.000    0.000 {method 'pop' of 'list' objects}\n",
      "        1    0.000    0.000    0.000    0.000 C:\\Users\\jainp\\anaconda3\\lib\\codecs.py:319(decode)\n",
      "        1    0.000    0.000    0.000    0.000 {built-in method _codecs.utf_8_decode}\n",
      "        1    0.000    0.000    0.000    0.000 C:\\Users\\jainp\\anaconda3\\lib\\codecs.py:309(__init__)\n",
      "        1    0.000    0.000    0.000    0.000 C:\\Users\\jainp\\anaconda3\\lib\\codecs.py:260(__init__)\n",
      "        1    0.000    0.000    0.000    0.000 {method 'disable' of '_lsprof.Profiler' objects}\n",
      "        2    0.000    0.000    0.000    0.000 {method 'append' of 'list' objects}\n",
      "\n",
      "\n",
      "\n"
     ]
    },
    {
     "data": {
      "text/plain": [
       "['batman', 'out of the blue']"
      ]
     },
     "execution_count": 3,
     "metadata": {},
     "output_type": "execute_result"
    }
   ],
   "source": [
    "'''In second method, I have added functions for reading text data 'read_movies', function to compare two movies 'is_duplicate' \n",
    "and the main function where we are calling read_movies once to read data, looping through all the movies in the data and call \n",
    "is_duplicate function everytime in loop. The only difference from first method is that instead of converting text to lower in \n",
    "is_duplicate function, we are doing it just after reading the data and in this way, we don't have to call it again and again \n",
    "in the loop.\n",
    "\n",
    "'''\n",
    "\n",
    "\n",
    "def read_movies(src):\n",
    "    \n",
    "    with open(src, encoding=\"utf-8\" ) as fd:\n",
    "        return fd.read().splitlines()\n",
    "    \n",
    "def is_duplicate(new_mov, movies):\n",
    "    for mov in movies:\n",
    "        if new_mov == mov:\n",
    "            return True\n",
    "    return False\n",
    "    \n",
    "@profile\n",
    "def find_duplicate_movies(src='movies.txt'):\n",
    "    \n",
    "    movies = read_movies(src)\n",
    "    movies = [movie.lower() for movie in movies]\n",
    "    duplicates = []\n",
    "    while movies:\n",
    "        movie = movies.pop()\n",
    "        if is_duplicate(movie, movies):\n",
    "            duplicates.append(movie)\n",
    "    return duplicates\n",
    "    \n",
    "find_duplicate_movies()"
   ]
  },
  {
   "cell_type": "code",
   "execution_count": null,
   "metadata": {},
   "outputs": [],
   "source": []
  },
  {
   "cell_type": "markdown",
   "metadata": {},
   "source": [
    "Analysis: <br>\n",
    "Total execution time is 0.293 which is far better than the first method. <br>\n",
    "See, with just only 1 change, we can reduce the execution time by huge amount. <br>\n",
    "\n",
    "\n",
    "Let's check if we can reduce it more. <br>\n",
    "Now the cummulatime time has increased from third to second row suddenly (is_duplicate) function, so we can remove this function, it will reduce execution time as well."
   ]
  },
  {
   "cell_type": "code",
   "execution_count": null,
   "metadata": {},
   "outputs": [],
   "source": []
  },
  {
   "cell_type": "code",
   "execution_count": 4,
   "metadata": {},
   "outputs": [
    {
     "name": "stdout",
     "output_type": "stream",
     "text": [
      "         9619 function calls in 0.093 seconds\n",
      "\n",
      "   Ordered by: cumulative time\n",
      "\n",
      "   ncalls  tottime  percall  cumtime  percall filename:lineno(function)\n",
      "        1    0.090    0.090    0.093    0.093 <ipython-input-4-7684026582ba>:15(find_duplicate_movies)\n",
      "        1    0.000    0.000    0.001    0.001 <ipython-input-4-7684026582ba>:9(read_movies)\n",
      "        1    0.001    0.001    0.001    0.001 <ipython-input-4-7684026582ba>:19(<listcomp>)\n",
      "     4803    0.000    0.000    0.000    0.000 {method 'lower' of 'str' objects}\n",
      "        1    0.000    0.000    0.000    0.000 {method 'read' of '_io.TextIOWrapper' objects}\n",
      "        1    0.000    0.000    0.000    0.000 {built-in method io.open}\n",
      "        1    0.000    0.000    0.000    0.000 {method 'splitlines' of 'str' objects}\n",
      "     4803    0.000    0.000    0.000    0.000 {method 'pop' of 'list' objects}\n",
      "        1    0.000    0.000    0.000    0.000 C:\\Users\\jainp\\anaconda3\\lib\\codecs.py:319(decode)\n",
      "        1    0.000    0.000    0.000    0.000 {built-in method _codecs.utf_8_decode}\n",
      "        1    0.000    0.000    0.000    0.000 C:\\Users\\jainp\\anaconda3\\lib\\codecs.py:309(__init__)\n",
      "        1    0.000    0.000    0.000    0.000 C:\\Users\\jainp\\anaconda3\\lib\\codecs.py:260(__init__)\n",
      "        2    0.000    0.000    0.000    0.000 {method 'append' of 'list' objects}\n",
      "        1    0.000    0.000    0.000    0.000 {method 'disable' of '_lsprof.Profiler' objects}\n",
      "\n",
      "\n",
      "\n"
     ]
    },
    {
     "data": {
      "text/plain": [
       "['batman', 'out of the blue']"
      ]
     },
     "execution_count": 4,
     "metadata": {},
     "output_type": "execute_result"
    }
   ],
   "source": [
    "'''In third method, I have added functions for reading text data 'read_movies' and the main function where we are calling \n",
    "read_movies once to read data, looping through all the movies in the data and storing unique movies. Instead of using string \n",
    "comparison, here we are checking if the last movie is in the remaining list. (if it is present, it is duplicate and we will \n",
    "store it in duplicates list.) In this way, we can remove string comparison using is_duplicate function.\n",
    "\n",
    "'''\n",
    "\n",
    "\n",
    "def read_movies(src):\n",
    "    \n",
    "    with open(src, encoding=\"utf-8\" ) as fd:\n",
    "        return fd.read().splitlines()\n",
    "    \n",
    "    \n",
    "@profile\n",
    "def find_duplicate_movies(src='movies.txt'):\n",
    "    \n",
    "    movies = read_movies(src)\n",
    "    movies = [movie.lower() for movie in movies]\n",
    "    duplicates = []\n",
    "    while movies:\n",
    "        movie = movies.pop()\n",
    "        if movie in movies:\n",
    "            duplicates.append(movie)\n",
    "    return duplicates\n",
    "    \n",
    "find_duplicate_movies()"
   ]
  },
  {
   "cell_type": "code",
   "execution_count": null,
   "metadata": {},
   "outputs": [],
   "source": []
  },
  {
   "cell_type": "markdown",
   "metadata": {},
   "source": [
    "Analysis: <br>\n",
    "Total execution time: 0.093 much better than first and second methods. <br>\n",
    "\n",
    "\n",
    "Therefoer, in comparison, method is the efficient one.\n",
    "\n"
   ]
  },
  {
   "cell_type": "code",
   "execution_count": null,
   "metadata": {},
   "outputs": [],
   "source": []
  }
 ],
 "metadata": {
  "kernelspec": {
   "display_name": "Python 3",
   "language": "python",
   "name": "python3"
  },
  "language_info": {
   "codemirror_mode": {
    "name": "ipython",
    "version": 3
   },
   "file_extension": ".py",
   "mimetype": "text/x-python",
   "name": "python",
   "nbconvert_exporter": "python",
   "pygments_lexer": "ipython3",
   "version": "3.8.5"
  }
 },
 "nbformat": 4,
 "nbformat_minor": 4
}
